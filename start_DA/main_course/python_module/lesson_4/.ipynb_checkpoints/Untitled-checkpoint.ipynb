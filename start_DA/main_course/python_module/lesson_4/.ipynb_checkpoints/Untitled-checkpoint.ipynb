{
 "cells": [
  {
   "cell_type": "code",
   "execution_count": null,
   "id": "790cd05f-8ff4-495c-bc35-f5bae2c19991",
   "metadata": {},
   "outputs": [],
   "source": [
    "import pandas as pd\n",
    "import seaborn as sns"
   ]
  },
  {
   "cell_type": "code",
   "execution_count": null,
   "id": "e291811c-15ee-4a93-8dfa-24e3cc24f8ba",
   "metadata": {},
   "outputs": [],
   "source": [
    "numbers = [1, -2, 3, 0, -3, 2]\n",
    "\n",
    "positive_numbers = []\n",
    "for num in numbers:\n",
    "    if num == 0:\n",
    "        break\n",
    "    elif num > 0:\n",
    "        positive_numbers.append(num)\n",
    "positive_numbers"
   ]
  },
  {
   "cell_type": "code",
   "execution_count": null,
   "id": "34e39ae3-b6c2-469c-a818-59769dffa543",
   "metadata": {},
   "outputs": [],
   "source": [
    "taxi = pd.read_csv('3_taxi_peru.csv', sep=';')\n",
    "taxi[['start_at', 'end_at', 'arrived_at']] = taxi[['start_at', 'end_at', 'arrived_at']].apply(pd.to_datetime)\n",
    "taxi = taxi.query('start_type == \"asap\" or start_type == \"reserved\"')\n",
    "taxi.head()"
   ]
  },
  {
   "cell_type": "code",
   "execution_count": null,
   "id": "dbbec849-3f1e-4333-adc3-6e022ee63efa",
   "metadata": {},
   "outputs": [],
   "source": [
    "taxi['wait_time'] = taxi.arrived_at - taxi.start_at\n",
    "taxi['wait_time'] = taxi['wait_time'].dt.total_seconds() / 60\n",
    "taxi['wait_time'].head()\n"
   ]
  },
  {
   "cell_type": "code",
   "execution_count": null,
   "id": "bff40329-1b43-4adb-95a1-81612a8c1174",
   "metadata": {},
   "outputs": [],
   "source": [
    "driver_idmax = taxi.query('start_type == \"reserved\" and wait_time > 0').groupby(['driver_id'], as_index=True).agg({'wait_time': 'count'}).idxmax()\n",
    "driver_idmax"
   ]
  },
  {
   "cell_type": "code",
   "execution_count": null,
   "id": "ba41694f-2482-4a86-b95b-dab85fb7aa8d",
   "metadata": {},
   "outputs": [],
   "source": [
    "taxi['month'] = taxi['start_at'].dt.month\n",
    "taxi['month'].head()"
   ]
  },
  {
   "cell_type": "code",
   "execution_count": null,
   "id": "e89a67cc-b545-4819-8da6-cec1d4ddbcbb",
   "metadata": {},
   "outputs": [],
   "source": [
    "taxi['weekday'] = taxi['start_at'].dt.strftime('%A')\n",
    "taxi['weekday'].head()"
   ]
  },
  {
   "cell_type": "code",
   "execution_count": null,
   "id": "3c7a5ad5-d82a-44eb-9efc-3f41552220ee",
   "metadata": {},
   "outputs": [],
   "source": [
    "sns.countplot(taxi['month'])"
   ]
  },
  {
   "cell_type": "code",
   "execution_count": null,
   "id": "5de488dd-5dc7-4304-8cac-cabf385764aa",
   "metadata": {},
   "outputs": [],
   "source": []
  }
 ],
 "metadata": {
  "kernelspec": {
   "display_name": "Python 3 (ipykernel)",
   "language": "python",
   "name": "python3"
  },
  "language_info": {
   "codemirror_mode": {
    "name": "ipython",
    "version": 3
   },
   "file_extension": ".py",
   "mimetype": "text/x-python",
   "name": "python",
   "nbconvert_exporter": "python",
   "pygments_lexer": "ipython3",
   "version": "3.12.0"
  }
 },
 "nbformat": 4,
 "nbformat_minor": 5
}
