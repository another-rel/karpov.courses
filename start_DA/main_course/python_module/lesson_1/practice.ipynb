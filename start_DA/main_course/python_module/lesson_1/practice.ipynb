{
 "cells": [
  {
   "cell_type": "code",
   "execution_count": 32,
   "metadata": {},
   "outputs": [
    {
     "name": "stdout",
     "output_type": "stream",
     "text": [
      "Max 24\n"
     ]
    }
   ],
   "source": [
    "# Задание 1\n",
    "\n",
    "name = 'Max'\n",
    "age = 24\n",
    "\n",
    "print(name, age)"
   ]
  },
  {
   "cell_type": "code",
   "execution_count": 31,
   "metadata": {},
   "outputs": [
    {
     "name": "stdout",
     "output_type": "stream",
     "text": [
      "['Max', 'Stanovoy', 250000.0, 3]\n"
     ]
    }
   ],
   "source": [
    "# Задание 2\n",
    "\n",
    "user_info = ['Max', 'Stanovoy', 250000.0, 3]\n",
    "\n",
    "print(user_info)"
   ]
  },
  {
   "cell_type": "code",
   "execution_count": 30,
   "metadata": {},
   "outputs": [
    {
     "name": "stdout",
     "output_type": "stream",
     "text": [
      "42\n"
     ]
    }
   ],
   "source": [
    "# Задание 3\n",
    "\n",
    "salaries = [42, 100, 70, 80] # входные данные\n",
    "\n",
    "first = salaries[0]\n",
    "\n",
    "print(first)"
   ]
  },
  {
   "cell_type": "code",
   "execution_count": 1,
   "metadata": {},
   "outputs": [
    {
     "name": "stdout",
     "output_type": "stream",
     "text": [
      "['V', 'Cyberpunk2077', 'Valery', 42]\n"
     ]
    }
   ],
   "source": [
    "# Задание 4\n",
    "\n",
    "users = ['V', 'Cyberpunk2077'] # пример входных данных\n",
    "\n",
    "users.extend(['Voronov', 42])\n",
    "\n",
    "print(users)"
   ]
  },
  {
   "cell_type": "code",
   "execution_count": 6,
   "metadata": {},
   "outputs": [
    {
     "name": "stdout",
     "output_type": "stream",
     "text": [
      "18\n",
      "21\n",
      "35\n",
      "42\n",
      "27\n"
     ]
    }
   ],
   "source": [
    "# Задание 5\n",
    "\n",
    "user_ages = [10, 18, 21, 35, 42, 27, 12, 16] # пример входных данных\n",
    "\n",
    "for age in user_ages: # поочередно берем каждый элемент списка\n",
    "    if age >= 18: # проверяем взятый элемент на условие\n",
    "        print(age) # выводим возраст пользователя в консоль"
   ]
  },
  {
   "cell_type": "code",
   "execution_count": 5,
   "metadata": {},
   "outputs": [
    {
     "name": "stdout",
     "output_type": "stream",
     "text": [
      "Olya Silyutina is middle\n"
     ]
    }
   ],
   "source": [
    "# Задание 6\n",
    "\n",
    "worker = ['Olya', 'Silyutina', 350000, 3] # пример входных данных\n",
    "# требуемый формат строки => user_name user_family is position\n",
    "\n",
    "if worker[-1] < 2: # определяем позицию сотрудника согласно предоставленному\n",
    "    position = 'junior' # в постановке задачи условию\n",
    "elif worker[-1] > 5:\n",
    "    position = 'senior'\n",
    "else:\n",
    "    position = 'middle'\n",
    "status = f'{worker[0]} {worker[1]} is {position}' # составляем выражение с помощью f-строки\n",
    "\n",
    "print(status)"
   ]
  },
  {
   "cell_type": "code",
   "execution_count": 3,
   "metadata": {},
   "outputs": [
    {
     "name": "stdout",
     "output_type": "stream",
     "text": [
      "[10, 100, 20, 50, 160, 210]\n"
     ]
    }
   ],
   "source": [
    "# Задание 7\n",
    "\n",
    "values = [12, 134, 10, 47, 100, 20, 50, 160, 210] # пример входных данных\n",
    "\n",
    "tens = [] # создаем заготовку списка для выходных данных\n",
    "for num in values: # итерируем по списку values\n",
    "    if num % 10 == 0:  # проверяем каждое число на кратность 10\n",
    "        tens.append(num) # если True, то добавляем число в список tens\n",
    "        \n",
    "print(tens)"
   ]
  },
  {
   "cell_type": "code",
   "execution_count": 10,
   "metadata": {},
   "outputs": [
    {
     "name": "stdout",
     "output_type": "stream",
     "text": [
      "Ivan Ivanov is junior\n",
      "Petr Petrov is middle\n",
      "Sidor Sidorov is senior\n"
     ]
    }
   ],
   "source": [
    "# Задание 8*\n",
    "\n",
    "# пример входных данных\n",
    "workers = [['Ivan', 'Ivanov', 100000, 1], ['Petr', 'Petrov', 150000, 2], ['Sidor', 'Sidorov', 200000, 10]]\n",
    "\n",
    "for form in workers: # итерируем по списку анкет сотрудников\n",
    "    if form[-1] < 2: # определяем позицию сотрудника согласно предоставленному\n",
    "        position = 'junior' # в постановке задачи условию\n",
    "    elif form[-1] > 5:\n",
    "        position = 'senior'\n",
    "    else:\n",
    "        position = 'middle'\n",
    "    status = f'{form[0]} {form[1]} is {position}' # составляем итоговое выражение\n",
    "    print(status) # выводим строковое выражение в консоль"
   ]
  },
  {
   "cell_type": "code",
   "execution_count": 17,
   "metadata": {},
   "outputs": [
    {
     "name": "stdout",
     "output_type": "stream",
     "text": [
      "[0, 2, 4, 6, 8, 10]\n"
     ]
    }
   ],
   "source": [
    "# Задание 9*\n",
    "\n",
    "n = 0 # значение первого элемента\n",
    "N = 10 # значение последнего элемента\n",
    "dn = 2 # шаг\n",
    "\n",
    "lst = [] # создаем заготовку списка\n",
    "\n",
    "while n <= N: # выполняем цикл для значений от 0 до 10 включительно\n",
    "    lst.append(n) # добавляем текущий элемент в список\n",
    "    n += dn # прибавляем к текущему значению элемента значение шага\n",
    "\n",
    "print(lst)"
   ]
  },
  {
   "cell_type": "code",
   "execution_count": 19,
   "metadata": {},
   "outputs": [
    {
     "name": "stdout",
     "output_type": "stream",
     "text": [
      "{'name': 'Masha', 'surname': 'Volkova', 'age': 25, 'salary': 60000, 'position': 'junior'}\n"
     ]
    }
   ],
   "source": [
    "# Задание 10\n",
    "\n",
    "# входные данные\n",
    "# характеристика => значение\n",
    "# name => Masha\n",
    "# surname => Volkova\n",
    "# age => 25\n",
    "# salary => 60000\n",
    "# position => junior\n",
    "\n",
    "salaries_dict = { # воспользуемся явным заполнением словаря\n",
    "    'name': 'Masha', # для этого вручную зададим пары 'ключ': значение\n",
    "    'surname': 'Volkova',\n",
    "    'age': 25,\n",
    "    'salary': 60000,\n",
    "    'position': 'junior'\n",
    "}\n",
    "\n",
    "print(salaries_dict)"
   ]
  },
  {
   "cell_type": "code",
   "execution_count": 28,
   "metadata": {},
   "outputs": [
    {
     "name": "stdout",
     "output_type": "stream",
     "text": [
      "{'mvolkova': {'name': 'Masha', 'surname': 'Volkova', 'age': 25, 'salary': 60000, 'position': 'junior'}, 'pvoronov': {'name': 'Peter', 'surname': 'Voronov', 'age': 27, 'salary': 100000, 'position': 'junior'}, 'pparker': {'name': 'Peter', 'surname': 'Parker', 'age': 35, 'salary': 150000, 'position': 'middle'}, 'akarpov': {'name': 'Anatoly', 'surname': 'Karpov', 'age': 30, 'salary': 250000, 'position': 'senior'}}\n",
      "senior\n"
     ]
    }
   ],
   "source": [
    "# Задание 11\n",
    "\n",
    "# входные данные\n",
    "# login => {name, surname, age, salary, position}\n",
    "# mvolkova => Masha, Volkova, 25, 60000, junior\n",
    "# pvoronov => Peter, Voronov, 27, 100000, junior\n",
    "# pparker => Peter, Parker, 35, 150000, middle\n",
    "# akarpov => Anatoly, Karpov, 30, 250000, senior\n",
    "\n",
    "# пример фрагмента выходных данных\n",
    "# {\n",
    "# 'mvolkova' : {'name' : 'Masha', ...},\n",
    "# 'pvoronov' : {'name' : 'Peter', ...}, \n",
    "# ...\n",
    "# }\n",
    "\n",
    "# поскольку входные данные не заданы какой-либо готовой структурой данных, то \n",
    "users_dict = { # воспользуемся явным заполнением словаря\n",
    "    'mvolkova': {'name': 'Masha', 'surname': 'Volkova', 'age': 25, 'salary': 60000, 'position': 'junior'},\n",
    "    'pvoronov': {'name': 'Peter', 'surname': 'Voronov', 'age': 27, 'salary': 100000, 'position': 'junior'},\n",
    "    'pparker': {'name': 'Peter', 'surname': 'Parker', 'age': 35, 'salary': 150000, 'position': 'middle'},\n",
    "    'akarpov': {'name': 'Anatoly', 'surname': 'Karpov', 'age': 30, 'salary': 250000, 'position': 'senior'}\n",
    "}\n",
    "\n",
    "print(users_dict)\n",
    "print(users_dict['akarpov']['position'])"
   ]
  }
 ],
 "metadata": {
  "kernelspec": {
   "display_name": "Python 3",
   "language": "python",
   "name": "python3"
  },
  "language_info": {
   "codemirror_mode": {
    "name": "ipython",
    "version": 3
   },
   "file_extension": ".py",
   "mimetype": "text/x-python",
   "name": "python",
   "nbconvert_exporter": "python",
   "pygments_lexer": "ipython3",
   "version": "3.7.3"
  }
 },
 "nbformat": 4,
 "nbformat_minor": 4
}
