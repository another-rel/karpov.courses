{
 "cells": [
  {
   "cell_type": "code",
   "execution_count": 57,
   "id": "8ef0f492-6d9d-4368-a5e9-e99484f5080c",
   "metadata": {},
   "outputs": [
    {
     "name": "stdout",
     "output_type": "stream",
     "text": [
      "[9]\n",
      "9\n"
     ]
    }
   ],
   "source": [
    "# # Пример 1\n",
    "# # a = 1\n",
    "# # b = 10\n",
    "# # result = 33\n",
    "\n",
    "# # # Пример 2\n",
    "# a = 9\n",
    "# b = 9\n",
    "# # result = 9\n",
    "\n",
    "# # # Пример 3\n",
    "# # a = 1\n",
    "# # b = 2\n",
    "# # result = 0\n",
    "\n",
    "# ab_list = list(range(a, b + 1))\n",
    "# sum = 0\n",
    "# print(ab_list)\n",
    "# for num in ab_list:\n",
    "#     if num % 3 == 0 or num % 5 == 0:\n",
    "#         sum += ab_list[i]\n",
    "\n",
    "# # print(sum)"
   ]
  },
  {
   "cell_type": "code",
   "execution_count": 18,
   "id": "22c88356-fe96-4f97-a9a3-ea2aacacde64",
   "metadata": {},
   "outputs": [
    {
     "name": "stdout",
     "output_type": "stream",
     "text": [
      "{1, 2, 3, 4, 5, 6, 7, 8, 9, 269}\n",
      "simple\n"
     ]
    }
   ],
   "source": [
    "# # Другими словами, натуральное число p является простым, если оно отлично от 1 и делится без остатка только на 1 и на само p\n",
    "# # Пример 1\n",
    "# num = 269\n",
    "# test_set = set(range(1, 10))\n",
    "# test_set.add(num)\n",
    "# count = 0\n",
    "# # result = \"это простое число\"\n",
    "# print(test_set)\n",
    "# # # Пример 2\n",
    "# # num = 8\n",
    "# # result = \"это не простое число\"\n",
    "# for x in test_set:\n",
    "#     if num % x == 0:\n",
    "#         count += 1\n",
    "\n",
    "# if count == 2:\n",
    "#     print('simple')\n",
    "# else:\n",
    "#     print('not simple')"
   ]
  },
  {
   "cell_type": "code",
   "execution_count": 22,
   "id": "563bdbb0-2bdf-466a-b7d7-29f782e60245",
   "metadata": {},
   "outputs": [
    {
     "name": "stdout",
     "output_type": "stream",
     "text": [
      "[2, 3, 4]\n"
     ]
    }
   ],
   "source": [
    "# num = 8\n",
    "# d = 0\n",
    "# # for i in range(2, num // 2+1):\n",
    "# #     if (num % i == 0):\n",
    "# #         d += 1\n",
    "# #         break\n",
    "# # result = \"это простое число\" if d == 0 else \"это не простое число\"\n",
    "# print(list(range(2, num // 2+1)))"
   ]
  },
  {
   "cell_type": "code",
   "execution_count": 28,
   "id": "d5bbebaa-2bd4-49ea-9e67-684131f3a4a8",
   "metadata": {},
   "outputs": [
    {
     "name": "stdout",
     "output_type": "stream",
     "text": [
      "False\n"
     ]
    }
   ],
   "source": [
    "number = 128 # число для теста\n",
    "\n",
    "if number == 0:\n",
    "    is_two_power = False\n",
    "else:\n",
    "    while number % 2 == 0:\n",
    "        number = number / 2\n",
    "is_two_power = number == 1\n",
    "print(is_two_power)"
   ]
  },
  {
   "cell_type": "code",
   "execution_count": 66,
   "id": "7bbda8d2-5663-45de-9496-79b86f1b55ea",
   "metadata": {},
   "outputs": [
    {
     "name": "stdout",
     "output_type": "stream",
     "text": [
      "35\n",
      "0\n",
      "755\n"
     ]
    }
   ],
   "source": [
    "# # Пример 1\n",
    "# coffee = 1\n",
    "# milk = 2\n",
    "# # visitors = 14\n",
    "\n",
    "# # # Пример 2\n",
    "# # coffee = 0.07\n",
    "# # milk = 0.1\n",
    "\n",
    "# coffee *= 1000\n",
    "# milk *= 1000\n",
    "# visitors = 0\n",
    "\n",
    "# while coffee >= 7:\n",
    "#     if (milk < 100 and (visitors + 1) % 3 == 0) or (milk < 180 and (visitors + 1) % 5 == 0):\n",
    "#         break\n",
    "\n",
    "#     visitors += 1\n",
    "#     if visitors % 3 == 0:\n",
    "#         coffee -= 7\n",
    "#         milk -= 100\n",
    "#     elif visitors % 5 == 0:\n",
    "#         coffee -= 7\n",
    "#         milk -= 180\n",
    "#     else:\n",
    "#         coffee -= 7\n",
    "\n",
    "# print(visitors)\n",
    "# print(milk)\n",
    "# print(coffee)"
   ]
  },
  {
   "cell_type": "code",
   "execution_count": 59,
   "id": "532a51eb-337e-4177-9956-3ddce7a04ccf",
   "metadata": {},
   "outputs": [
    {
     "name": "stdout",
     "output_type": "stream",
     "text": [
      "35\n",
      "0\n",
      "755\n"
     ]
    }
   ],
   "source": [
    "# coffee = 1\n",
    "# milk = 2\n",
    "\n",
    "# coffee *= 1000\n",
    "# milk *= 1000\n",
    "# visitors = 0\n",
    "# while True:\n",
    "#     if coffee < 7 or ((visitors + 1) % 3 == 0 and milk < 100) or ((visitors + 1) % 5 == 0 and milk < 180):\n",
    "#         break\n",
    "#     visitors += 1\n",
    "#     coffee -= 7\n",
    "#     if visitors % 3 == 0 :\n",
    "#         milk -= 100\n",
    "#     elif visitors % 5 == 0:\n",
    "#         milk -= 180\n",
    "\n",
    "# print(visitors)\n",
    "# print(milk)\n",
    "# print(coffee)"
   ]
  },
  {
   "cell_type": "code",
   "execution_count": 77,
   "id": "23a14fcc-1a5d-4c7b-b6fc-a8e66e9830c3",
   "metadata": {},
   "outputs": [
    {
     "name": "stdout",
     "output_type": "stream",
     "text": [
      "2\n",
      "2\n",
      "False\n"
     ]
    }
   ],
   "source": [
    "# Пример 1\n",
    "# a = [1, 2, 3, 4, 5, 6, 7, 8, 9]\n",
    "# result = True\n",
    "\n",
    "# # Пример 2\n",
    "# a = [1, 2, 3, 4, 5, 6, 7, 8, 10]\n",
    "# result = False\n",
    "\n",
    "# # Пример 3\n",
    "a = [1, 2, 3, 4]\n",
    "# result = False\n",
    "\n",
    "# count = 0\n",
    "# countN = 0\n",
    "\n",
    "# for num in a:\n",
    "#     if num % 2 == 0:\n",
    "#         count += 1\n",
    "#     else:\n",
    "#         countN += 1\n",
    "\n",
    "# print(count)\n",
    "# print(countN)\n",
    "# if countN > count:\n",
    "#     result = True\n",
    "# else:\n",
    "#     result = False\n",
    "\n",
    "# print(result)"
   ]
  },
  {
   "cell_type": "code",
   "execution_count": 79,
   "id": "67c64e0d-c9a4-4f41-8103-7d498be5d569",
   "metadata": {},
   "outputs": [
    {
     "data": {
      "text/plain": [
       "[1, -1, 1, -1]"
      ]
     },
     "execution_count": 79,
     "metadata": {},
     "output_type": "execute_result"
    }
   ],
   "source": [
    "\n",
    "# result = list(1 if int(i) % 2 else -1 for i in a)\n",
    "# result"
   ]
  },
  {
   "cell_type": "code",
   "execution_count": 87,
   "id": "fe513f26-ef13-4ba6-a235-e9c0a1c2e2ff",
   "metadata": {},
   "outputs": [
    {
     "name": "stdout",
     "output_type": "stream",
     "text": [
      "['Математика', 'География']\n"
     ]
    }
   ],
   "source": [
    "# grades = {\"Математика\": 4, \"История\": 3, \"Биология\": 3, \"География\": 4}\n",
    "# # good_subjects = [\"Математика\", \"География\"]\n",
    "\n",
    "# # grades = {\"Алгебра\": 3, \"ИЗО\": 2}\n",
    "# # good_subjects = []\n",
    "\n",
    "# good_subjects = []\n",
    "# for subject, grade in grades.items():\n",
    "#     if grade >= 4:\n",
    "#         good_subjects.append(subject)\n",
    "\n",
    "# print(good_subjects)"
   ]
  },
  {
   "cell_type": "code",
   "execution_count": 121,
   "id": "cab658c6-e77b-4fc7-b5de-d962cc4823fd",
   "metadata": {},
   "outputs": [
    {
     "name": "stdout",
     "output_type": "stream",
     "text": [
      "1\n",
      "[16, 17]\n"
     ]
    }
   ],
   "source": [
    "# Пример 1\n",
    "# nums = [40, 16, 8, 17, 15]\n",
    "# # result = [16, 17]\n",
    "# # # пара 16 и 15 не подходит, так как сумма 16 и 17 больше\n",
    "\n",
    "# # # Пример 2\n",
    "# # nums = [0, 2, 35, 42, 45, 14, -6, -1]\n",
    "# # result = [-1, 0]\n",
    "# nums_diff = float('inf')\n",
    "# nums_sum = 0\n",
    "# nums.sort()\n",
    "# for i in range(1, len(nums)):\n",
    "#     if abs(nums[i] - nums[i - 1]) < nums_diff:\n",
    "#         nums_diff = abs(nums[i] - nums[i - 1])\n",
    "#         nums_sum = nums[i] + nums[i - 1]\n",
    "#         result = [nums[i - 1], nums[i]]\n",
    "#     elif abs(nums[i] - nums[i - 1]) == nums_diff and abs(nums[i] + nums[i - 1]) > nums_sum:\n",
    "#         result = [nums[i - 1], nums[i]]\n",
    "# print(nums_diff)\n",
    "# print(result)"
   ]
  },
  {
   "cell_type": "code",
   "execution_count": 124,
   "id": "6652c6a2-b8b6-4b6d-96f3-c6c181f2d46d",
   "metadata": {},
   "outputs": [
    {
     "name": "stdout",
     "output_type": "stream",
     "text": [
      "False\n"
     ]
    }
   ],
   "source": [
    "# lst_1 = [\"1\", \"0\", \"0\", \"1\"]\n",
    "# lst_2 = [\"0\", \"1\", \"1\", \"0\"]\n",
    "# result = True\n",
    "\n",
    "lst_1 = [\"1\", \"0\", \"0\", \"1\"]\n",
    "lst_2 = [\"0\", \"1\", \"1\", \"1\"]\n",
    "# result = False\n",
    "\n",
    "result = True\n",
    "for i in range(len(lst_1)):\n",
    "    if lst_1[i] == lst_2[i]:\n",
    "        result = False\n",
    "        break\n",
    "print(result)"
   ]
  },
  {
   "cell_type": "code",
   "execution_count": 149,
   "id": "8733cc30-a877-47ff-9758-25a593f2958e",
   "metadata": {},
   "outputs": [
    {
     "name": "stdout",
     "output_type": "stream",
     "text": [
      "lesson=2task=21course=python\n"
     ]
    }
   ],
   "source": [
    "# Пример 1\n",
    "m = [[1, 23, 4], \n",
    "     [3, 2, 1],\n",
    "     [6, 3, 4]]\n",
    "# result = False\n",
    "\n",
    "# # Пример 2\n",
    "# m = [[1, 23, 4], \n",
    "#      [3, 2, 1],\n",
    "#      [1, 3, 4]]\n",
    "# result = True\n",
    "diag = 0\n",
    "diag_rev = 0\n",
    "for i in range(len(m)):\n",
    "    diag += m[i][i]\n",
    "    diag_rev += m[i][-(i+1)]\n",
    "result = True if diag == diag_rev else False"
   ]
  },
  {
   "cell_type": "code",
   "execution_count": 155,
   "id": "7d4ff413-a9d9-4864-9fa2-e4e935dbe6d0",
   "metadata": {},
   "outputs": [
    {
     "name": "stdout",
     "output_type": "stream",
     "text": [
      "course=python&lesson=2&task=21\n"
     ]
    }
   ],
   "source": [
    "input_dict = {'lesson': 2, 'task': 21, 'course': 'python'}\n",
    "# result = 'course=python&lesson=2&task=21'\n",
    "result = ''\n",
    "for key, value in sorted(input_dict.items()):\n",
    "    result += f'{key}={value}&'\n",
    "result = result.strip('&')\n",
    "print(result)"
   ]
  },
  {
   "cell_type": "code",
   "execution_count": 191,
   "id": "6ec20b69-7b43-4430-8f34-3d3aa486331a",
   "metadata": {},
   "outputs": [
    {
     "name": "stdout",
     "output_type": "stream",
     "text": [
      "SSttrriinngg\n"
     ]
    }
   ],
   "source": [
    "input_str = \"String\"\n",
    "# result = \"SSttrriinngg\"\n",
    "\n",
    "str_list = list(input_str)\n",
    "\n",
    "for i in range(0, 2 * len(str_list), 2):\n",
    "    str_list.insert(i + 1, str_list[i])\n",
    "result = ''.join(str_list)\n",
    "print(result)"
   ]
  },
  {
   "cell_type": "code",
   "execution_count": 212,
   "id": "b66f178d-182f-4280-9f56-320562a0562c",
   "metadata": {},
   "outputs": [
    {
     "name": "stdout",
     "output_type": "stream",
     "text": [
      "['2', '0', '2', '4']\n",
      "[False, True, False, True]\n"
     ]
    }
   ],
   "source": [
    "n = 2024\n",
    "# result = [False, False, True, False, True]\n",
    "result = [False]\n",
    "n = list(str(n))\n",
    "for i in range(1, len(n)):\n",
    "    result.append(True if int(n[i-1]) != 0 and int(n[i]) % int(n[i-1]) == 0 else False)\n",
    "print(n)\n",
    "print(result)"
   ]
  },
  {
   "cell_type": "code",
   "execution_count": 214,
   "id": "268f50e5-5788-4e4d-a0f9-d8819892c208",
   "metadata": {},
   "outputs": [
    {
     "name": "stdout",
     "output_type": "stream",
     "text": [
      "[(1, 'Антонов'), (2, 'Волгов')]\n"
     ]
    }
   ],
   "source": [
    "students = {'Бабаков': 80, 'Антонов': 99, 'Волгов': 100}\n",
    "# students_order = [(1, 'Антонов'), (2, 'Волгов')]\n",
    "students_order = []\n",
    "order = 0\n",
    "for student, points in sorted(students.items()):\n",
    "    if points >= 90:\n",
    "        order += 1\n",
    "        students_order.append((order, student))\n",
    "print(students_order)"
   ]
  },
  {
   "cell_type": "code",
   "execution_count": 265,
   "id": "b8cf0b12-3940-4a18-aefd-6e2dc86f0aa9",
   "metadata": {},
   "outputs": [
    {
     "name": "stdout",
     "output_type": "stream",
     "text": [
      "hi, my name is anatoly, i like python\n"
     ]
    }
   ],
   "source": [
    "my_string = 'qircxfcgwxeciscwgwvzlfrciclibecpfvqzg'\n",
    "secret_dict = {\n",
    " 'b': 'k',\n",
    " 'c': ' ',\n",
    " 'g': 'n',\n",
    " 'q': 'h',\n",
    " 'z': 'o',\n",
    " 'v': 't',\n",
    " 'w': 'a',\n",
    " 'f': 'y',\n",
    " 'x': 'm',\n",
    " 'r': ','}\n",
    "my_string = list(my_string)\n",
    "for i in range(len(my_string)):\n",
    "   my_string[i] = secret_dict.get(my_string[i], f'{my_string[i]}')\n",
    "\n",
    "decrypted_string = ''.join(my_string)\n",
    "print(decrypted_string)"
   ]
  },
  {
   "cell_type": "code",
   "execution_count": 7,
   "id": "33939fa6-be23-4ce1-922c-789faa67d63e",
   "metadata": {},
   "outputs": [
    {
     "name": "stdout",
     "output_type": "stream",
     "text": [
      "(60500, {'роутер': 2, 'смартфон': 2, 'флешка': 1, 'ноутбук': 1, 'монитор': 1, 'клавиатура': 1, 'наушники': 1})\n"
     ]
    }
   ],
   "source": [
    "products = {\n",
    "    \"ноутбук\": 5000,\n",
    "    \"смартфон\": 20000,\n",
    "    \"наушники\": 1000,\n",
    "    \"монитор\": 10000,\n",
    "    \"клавиатура\": 500,\n",
    "    \"мышь\": 200,\n",
    "    \"роутер\": 1500,\n",
    "    \"принтер\": 5000,\n",
    "    \"флешка\": 1000,\n",
    "    \"жесткий диск\": 3000\n",
    "}\n",
    "\n",
    "# total_cost, orders_info = calculate_order_cost(products, 'ноутбук', 'роутер') \n",
    "# print(total_cost) # 6500\n",
    "# print(orders_info) # {'ноутбук': 1, 'роутер': 1}\n",
    "\n",
    "# total_cost, orders_info = calculate_order_cost(products , 'мышь', 'флешка', 'монитор', 'кабель', 'мышь') \n",
    "# print(total_cost) # 11400\n",
    "# print(orders_info) # {'мышь': 2, 'флешка': 1, 'монитор': 1}\n",
    "\n",
    "def calculate_order_cost(table_new, *goods):\n",
    "    orders_info = {}\n",
    "    total_cost = 0\n",
    "    for x in goods:\n",
    "        if table_new.get(x) != None:\n",
    "            total_cost += table_new.get(x)\n",
    "            orders_info.update({x: goods.count(x)})\n",
    "    return total_cost, orders_info\n",
    "\n",
    "print(calculate_order_cost(products, 'роутер', 'смартфон', 'смартфон', 'флешка', 'роутер', 'ноутбук', 'монитор', 'клавиатура', 'наушники', 'часы', 'стул', 'стол', 'микрофон'))"
   ]
  },
  {
   "cell_type": "code",
   "execution_count": 8,
   "id": "df7e3739-f708-409f-a937-4078c23768db",
   "metadata": {},
   "outputs": [],
   "source": [
    "total_cost, orders_info = calculate_order_cost(products, 'роутер', 'смартфон', 'смартфон', 'флешка', 'роутер', 'ноутбук', 'монитор', 'клавиатура', 'наушники', 'часы', 'стул', 'стол', 'микрофон')"
   ]
  },
  {
   "cell_type": "code",
   "execution_count": 27,
   "id": "968653d1-ab50-43b7-b5fb-af5180c2374e",
   "metadata": {},
   "outputs": [
    {
     "data": {
      "text/plain": [
       "'Error'"
      ]
     },
     "execution_count": 27,
     "metadata": {},
     "output_type": "execute_result"
    }
   ],
   "source": [
    "def calculator(op, a, b):\n",
    "    num_ops = {\n",
    "        '+': lambda a, b: a + b,\n",
    "        '-': lambda a, b: a - b,\n",
    "        '*': lambda a, b: a * b,\n",
    "        '/': lambda a, b: a / b,\n",
    "        '^': lambda a, b: a ** b\n",
    "    }\n",
    "    if num_ops.get(op) == None or (op == '/' and b == 0):\n",
    "        return 'Error'\n",
    "    else:\n",
    "        return num_ops[op](a, b)\n",
    "    # if op == '+':\n",
    "    #     return a + b\n",
    "    # elif op == '-':\n",
    "    #     return a - b\n",
    "    # elif op == '^':\n",
    "    #     return a ** b\n",
    "    # else:\n",
    "    #     return 'Error'\n",
    "\n",
    "# calculator('+', 2, 4) # -> 6\n",
    "calculator('/', 2, 0) # -> 16\n",
    "# calculator('', 2, 4) # -> 'Error'\n"
   ]
  },
  {
   "cell_type": "code",
   "execution_count": 83,
   "id": "38fb081a-60fc-456f-84f9-1c669354e1a8",
   "metadata": {},
   "outputs": [
    {
     "data": {
      "text/plain": [
       "({'Артур Поттер': 'Гриффиндор',\n",
       "  'Сириус Блэк': 'Гриффиндор',\n",
       "  'Аманда Коршун': 'Когтевран',\n",
       "  'Тесая Блэк': 'Когтевран',\n",
       "  'Пенелопа Вулпинголд': 'Слизерин'},\n",
       " {'Гриффиндор': 2, 'Когтевран': 2, 'Пуффендуй': 0, 'Слизерин': 1})"
      ]
     },
     "execution_count": 83,
     "metadata": {},
     "output_type": "execute_result"
    }
   ],
   "source": [
    "new_students = {'Сириус Блэк': 'храбрость', 'Аманда Коршун': 'любознательность', \n",
    "                'Пенелопа Вулпинголд': 'находчивость', 'Артур Поттер': 'храбрость', 'Тесая Блэк': 'ум'}\n",
    "\n",
    "def sorting_hat(new_students):\n",
    "    students = {}\n",
    "    departments = {\n",
    "        'Гриффиндор': 0,\n",
    "        'Когтевран': 0,\n",
    "        'Пуффендуй': 0,\n",
    "        'Слизерин': 0\n",
    "    }\n",
    "    for student, char in new_students.items():\n",
    "        if char == 'храбрость' or char == 'благородство' or char == 'честь':\n",
    "            students.update({student: 'Гриффиндор'})\n",
    "        elif char == 'ум' or char == 'любознательность' or char == 'творчество':\n",
    "            students.update({student: 'Когтевран'})\n",
    "        elif char == 'трудолюбие' or char == 'верность' or char == 'честность':\n",
    "            students.update({student: 'Пуффендуй'})\n",
    "        else:\n",
    "            students.update({student: 'Слизерин'})\n",
    "    \n",
    "    sorted_students = dict(sorted(students.items(), key = lambda x: x[0])) # сортировка словаря по ключу\n",
    "    sorted_students = dict(sorted(sorted_students.items(), key = lambda x: x[1])) # вторая сортировка словаря, только уже по значению\n",
    "    \n",
    "    for student, department in sorted_students.items():\n",
    "        departments.update({department: list(sorted_students.values()).count(department)})\n",
    "        \n",
    "    return sorted_students, departments\n",
    "sorting_hat(new_students)\n",
    "# sorted_students = {'Артур Поттер': 'Гриффиндор', 'Сириус Блэк': 'Гриффиндор', 'Аманда Коршун': 'Когтевран', \n",
    "#                    'Тесая Блэк': 'Когтевран', 'Пенелопа Вулпинголд': 'Слизерин'}\n",
    "# departments = {'Гриффиндор': 2, 'Когтевран': 2, 'Пуффендуй': 0, 'Слизерин': 1}"
   ]
  },
  {
   "cell_type": "code",
   "execution_count": 112,
   "id": "c53be736-068c-4128-b2d6-c5a5afe4ff24",
   "metadata": {},
   "outputs": [
    {
     "name": "stdout",
     "output_type": "stream",
     "text": [
      "[('Ivan', 30), ('Olga', 25), ('Ivan', 20)]\n"
     ]
    }
   ],
   "source": [
    "input_list = [('Anna', 13), ('Ivan', 20), ('Irina', 23), ('Olga', 25), \n",
    "              ('Ivan', 30), ('Oleg', 24), ('Olga', 26)]\n",
    "# result = []\n",
    "# for x in input_list:\n",
    "#     if x[1] % 5 == 0:\n",
    "#         result.append(x)\n",
    "\n",
    "# print(result)\n",
    "\n",
    "result = list(filter(lambda x: x[1] % 5 == 0, input_list))\n",
    "result.sort(key = lambda x: x[1], reverse=True)\n",
    "\n",
    "print(result)\n",
    "\n",
    "# result = [('Ivan', 30), ('Olga', 25), ('Ivan', 20)]\n"
   ]
  },
  {
   "cell_type": "code",
   "execution_count": 122,
   "id": "03ad086d-5d9a-4248-b5e0-9e5c604570e2",
   "metadata": {},
   "outputs": [
    {
     "name": "stdout",
     "output_type": "stream",
     "text": [
      "[3, 10, 5, 16, 8, 4, 2, 1]\n"
     ]
    }
   ],
   "source": [
    "def collatz_conjecture(n):\n",
    "    result_list = [n]\n",
    "    while n > 1:\n",
    "        if n % 2 != 0:\n",
    "            n = n * 3 + 1\n",
    "            result_list.append(n)\n",
    "        else:\n",
    "            n = int(n / 2)\n",
    "            result_list.append(n)\n",
    "    return result_list\n",
    "\n",
    "print(collatz_conjecture(3)) # -> [8, 4, 2, 1]\n",
    "# collatz_conjecture(3) # -> [3, 10, 5, 16, 8, 4, 2, 1]"
   ]
  },
  {
   "cell_type": "code",
   "execution_count": 150,
   "id": "523e24db-fbd8-4429-8990-378648d24906",
   "metadata": {},
   "outputs": [
    {
     "data": {
      "text/plain": [
       "(2, 5, 4, 3, 1)"
      ]
     },
     "execution_count": 150,
     "metadata": {},
     "output_type": "execute_result"
    }
   ],
   "source": [
    "def reverse_tuple(lst):\n",
    "    for num in lst:\n",
    "        if lst.count(num) != 1:\n",
    "            lst.remove(num)\n",
    "    lst.reverse()\n",
    "    return tuple(lst)\n",
    "\n",
    "# reverse_tuple([1, 3, 4]) # -> (4, 3, 1)\n",
    "reverse_tuple([1, 3, 4, 4, 5, 2]) # -> (2, 5, 4, 3, 1)\n",
    "# reverse_tuple([4, 5, 3, 5, 5, 6, 1, 3]) # -> (3, 1, 6, 5, 4)"
   ]
  },
  {
   "cell_type": "code",
   "execution_count": 172,
   "id": "b4f257bf-946d-4576-b97e-7810e49371bd",
   "metadata": {},
   "outputs": [
    {
     "data": {
      "text/plain": [
       "(1, 2, 3, 9, 5)"
      ]
     },
     "execution_count": 172,
     "metadata": {},
     "output_type": "execute_result"
    }
   ],
   "source": [
    "def update_tuple(input_tuple, el_del):\n",
    "    if list(input_tuple).count(el_del) == 0:\n",
    "        return tuple(input_tuple)\n",
    "    else:\n",
    "        tuple_to_list = list(input_tuple)\n",
    "        tuple_to_list.remove(el_del)\n",
    "        return tuple(tuple_to_list)\n",
    "\n",
    "\n",
    "# update_tuple((1, 2, 3), 1) #-> (2, 3)\n",
    "update_tuple((1, 2, 3, 3, 9, 5), 3) #-> (1, 2, 3, 9, 5)\n",
    "# update_tuple((1, 2, 3), 9) #-> (1, 2, 3)"
   ]
  },
  {
   "cell_type": "code",
   "execution_count": null,
   "id": "52795b26-10e4-40f6-8350-606e8f8c7fa1",
   "metadata": {},
   "outputs": [],
   "source": [
    "city_map_list = [\n",
    "[1, 1, 0, 0, 1], \n",
    "[1, 1, 0, 0, 1],\n",
    "[1, 1, 1, 1, 1],\n",
    "[0, 0, 0, 0, 1],\n",
    "[0, 0, 0, 0, 1]\n",
    "]\n",
    "\n",
    "courier_location = (2, 2) # стартовая позиция курьера\n",
    "orders_location = [(4, 0), (0, 2), (4, 3)] # координаты для доставки трех товаров\n",
    "\n",
    "route = [\n",
    "(3, 2),\n",
    "(4, 2),\n",
    "(4, 1),\n",
    "(4, 0), # адрес доставки\n",
    "(4, 1),\n",
    "(4, 2),\n",
    "(3, 2),\n",
    "(2, 2),\n",
    "(1, 2),\n",
    "(0, 2), # адрес доставки\n",
    "(1, 2),\n",
    "(2, 2),\n",
    "(3, 2),\n",
    "(4, 2),\n",
    "(4, 3) # адрес доставки\n",
    "]\n"
   ]
  }
 ],
 "metadata": {
  "kernelspec": {
   "display_name": "Python 3 (ipykernel)",
   "language": "python",
   "name": "python3"
  },
  "language_info": {
   "codemirror_mode": {
    "name": "ipython",
    "version": 3
   },
   "file_extension": ".py",
   "mimetype": "text/x-python",
   "name": "python",
   "nbconvert_exporter": "python",
   "pygments_lexer": "ipython3",
   "version": "3.12.0"
  }
 },
 "nbformat": 4,
 "nbformat_minor": 5
}
