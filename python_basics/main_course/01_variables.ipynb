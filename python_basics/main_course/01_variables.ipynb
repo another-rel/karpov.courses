{
 "cells": [
  {
   "cell_type": "code",
   "execution_count": 57,
   "id": "e88a40d8-e515-47f0-96d3-be5fc8a44398",
   "metadata": {},
   "outputs": [
    {
     "name": "stdout",
     "output_type": "stream",
     "text": [
      "0\n",
      "1\n",
      "False\n",
      "-1\n",
      "1.0\n",
      "1.1\n",
      "True\n"
     ]
    }
   ],
   "source": [
    "print(False ** True)\n",
    "print(True + 0)\n",
    "print(2 == True)\n",
    "print(False - True)\n",
    "print(True ** 0.5)\n",
    "print(True + 0.1)\n",
    "print(bool(False + 1))"
   ]
  },
  {
   "cell_type": "code",
   "execution_count": 58,
   "id": "9b976ce0-8a66-41b7-a14b-e1a340819231",
   "metadata": {},
   "outputs": [
    {
     "name": "stdout",
     "output_type": "stream",
     "text": [
      "* * * *\n",
      "* * * *\n",
      "* * * *\n",
      "* * * *\n"
     ]
    }
   ],
   "source": [
    "square = '* * * *\\n* * * *\\n* * * *\\n* * * *'\n",
    "print(square)"
   ]
  },
  {
   "cell_type": "code",
   "execution_count": 7,
   "id": "eedf3c1a-8c2e-4390-b472-ae7fa8857403",
   "metadata": {},
   "outputs": [
    {
     "name": "stdout",
     "output_type": "stream",
     "text": [
      "['Ian', 'Ivan', 'Anatoly', 'Oksana']\n",
      "[0, 2, 3, 5, 6, 7, 8, 9]\n",
      "['Analytics', 'Python']\n"
     ]
    }
   ],
   "source": [
    "student_names = ['Ian', 'Ivan']\n",
    "scores = [0, 1, 2, 3, 4, 5, 6, 7, 8, 9, 10]\n",
    "lessons = ['Python', 'Analytics']\n",
    "\n",
    "# ===>\n",
    "\n",
    "# student_names = ['Ian', 'Ivan', 'Anatoly', 'Oksana']\n",
    "# scores = [0, 2, 3, 5, 6, 7, 8, 9]\n",
    "# lessons = ['Analytics', 'Python']\n",
    "\n",
    "student_names.append('Anatoly')\n",
    "student_names.append('Oksana')\n",
    "\n",
    "scores.pop(1)\n",
    "scores.pop(3)\n",
    "scores.pop(-1)\n",
    "\n",
    "lessons.sort()\n",
    "\n",
    "print(student_names)\n",
    "print(scores)\n",
    "print(lessons)"
   ]
  },
  {
   "cell_type": "code",
   "execution_count": null,
   "id": "c03e8ab6-f4b2-4207-b87a-d56a81abff9f",
   "metadata": {},
   "outputs": [],
   "source": []
  }
 ],
 "metadata": {
  "kernelspec": {
   "display_name": "Python 3 (ipykernel)",
   "language": "python",
   "name": "python3"
  },
  "language_info": {
   "codemirror_mode": {
    "name": "ipython",
    "version": 3
   },
   "file_extension": ".py",
   "mimetype": "text/x-python",
   "name": "python",
   "nbconvert_exporter": "python",
   "pygments_lexer": "ipython3",
   "version": "3.12.0"
  }
 },
 "nbformat": 4,
 "nbformat_minor": 5
}
