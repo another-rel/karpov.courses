{
 "cells": [
  {
   "cell_type": "code",
   "execution_count": 2,
   "id": "1215db84-7cd2-4ae3-aa9d-9c703a58b72f",
   "metadata": {},
   "outputs": [
    {
     "name": "stdout",
     "output_type": "stream",
     "text": [
      "{'course_name': 'python_intro', 'teacher': 'Anatoly Karpov', 'n_lessons': 10, 'n_students': 10399, 'school_name': 'KarpovCourses'}\n"
     ]
    }
   ],
   "source": [
    "course_info = {'course_name': 'python_intro', 'teacher': 'Anatoly Karpov', 'n_lessons': 10, 'n_students': 10399, 'school_name': 'KarpovCourses'}\n",
    "print(course_info)"
   ]
  },
  {
   "cell_type": "code",
   "execution_count": 4,
   "id": "fdb9f445-c2f9-4f37-96e8-8df01486d3e6",
   "metadata": {},
   "outputs": [
    {
     "data": {
      "text/plain": [
       "'python_intro'"
      ]
     },
     "execution_count": 4,
     "metadata": {},
     "output_type": "execute_result"
    }
   ],
   "source": [
    "course_info[\"course_name\"]"
   ]
  },
  {
   "cell_type": "code",
   "execution_count": 9,
   "id": "4fff8e94-5ca5-4c66-b51f-2f6056a1b1ab",
   "metadata": {},
   "outputs": [
    {
     "name": "stdout",
     "output_type": "stream",
     "text": [
      "37\n"
     ]
    }
   ],
   "source": [
    "data = {'cost_price': 12.45, 'sell_price': 13, 'eclairs': 67}\n",
    "result = round((data['sell_price'] - data['cost_price']) * data['eclairs'])\n",
    "print(result)"
   ]
  },
  {
   "cell_type": "code",
   "execution_count": 14,
   "id": "16d8dbf6-a7a9-4284-846d-be57b9a72fc2",
   "metadata": {},
   "outputs": [
    {
     "data": {
      "text/plain": [
       "{'name': 'Igor', 'max_note': 5}"
      ]
     },
     "execution_count": 14,
     "metadata": {},
     "output_type": "execute_result"
    }
   ],
   "source": [
    "student = {\"name\": \"Igor\", \"notes\": [4, 5, 4]}\n",
    "# result = {\"name\": \"Igor\", \"max_note\": 5}\n",
    "\n",
    "max_notes = max(list(student['notes']))\n",
    "result = {'name': student['name'], 'max_note': max(student['notes'])}\n",
    "result"
   ]
  },
  {
   "cell_type": "code",
   "execution_count": 21,
   "id": "f4f53f85-80dc-466d-ad34-71b3be6db8da",
   "metadata": {},
   "outputs": [
    {
     "name": "stdout",
     "output_type": "stream",
     "text": [
      "{'SimulatorAnalyst': 56, 'StartML': 87, 'DataAnalyst': 140, 'HardML': 120}\n",
      "['SimulatorAnalyst', 'StartML', 'DataAnalyst', 'HardML']\n",
      "87\n"
     ]
    }
   ],
   "source": [
    "anton_courses = {'SimulatorAnalyst': 56, \n",
    "                 'StartML': 87, \n",
    "                 'DataAnalyst': 140}\n",
    "# -> \n",
    "# anton_courses = {'SimulatorAnalyst': 56, \n",
    "#                  'StartML': 87, \n",
    "#                  'DataAnalyst': 140, \n",
    "#                  'HardML': 120}\n",
    "# courses = ['SimulatorAnalyst', 'StartML', 'DataAnalyst', 'HardML']\n",
    "# StartML = 87\n",
    "\n",
    "anton_courses['HardML'] = 120\n",
    "courses = list(anton_courses.keys())\n",
    "StartML = anton_courses['StartML']\n",
    "print(anton_courses)\n",
    "print(courses)\n",
    "print(StartML)"
   ]
  },
  {
   "cell_type": "code",
   "execution_count": 25,
   "id": "8c665318-aeba-4672-a140-6b5d4e5f664f",
   "metadata": {},
   "outputs": [
    {
     "name": "stdout",
     "output_type": "stream",
     "text": [
      "{'2358241350-50': 1, '2358000350-30': 24, '2358241350-00': 3, '2358241350-60': 10}\n"
     ]
    }
   ],
   "source": [
    "shop_stock = {\"2358241350-50\": 1, \"2358000350-30\": 24, \"2358241350-00\": 3}\n",
    "shop_new_goods = {\"2358241350-60\": 10}\n",
    "\n",
    "# result = {\"2358241350-50\": 1, \"2358000350-30\": 24, \"2358241350-00\": 3, \"2358241350-60\": 10}\n",
    "result = shop_stock.copy()\n",
    "result.update(shop_new_goods)\n",
    "print(result)"
   ]
  },
  {
   "cell_type": "code",
   "execution_count": 27,
   "id": "cbc904d9-9932-4e5a-ac9d-219cb0dfbc70",
   "metadata": {},
   "outputs": [
    {
     "data": {
      "text/plain": [
       "18.5"
      ]
     },
     "execution_count": 27,
     "metadata": {},
     "output_type": "execute_result"
    }
   ],
   "source": [
    "input_dict = {\"морковь\": 10.44, \"капуста\": 5.06, \"клубника\": 3}\n",
    "\n",
    "# result = 18.5\n",
    "result = sum(input_dict.values())\n",
    "result"
   ]
  },
  {
   "cell_type": "code",
   "execution_count": 29,
   "id": "1d37dc6d-fd43-493d-ad8f-dc13250c2ba4",
   "metadata": {},
   "outputs": [
    {
     "data": {
      "text/plain": [
       "300000"
      ]
     },
     "execution_count": 29,
     "metadata": {},
     "output_type": "execute_result"
    }
   ],
   "source": [
    "courses = {\"Python\": 80000, \"SQL\": 300000}\n",
    "# result = 300000\n",
    "result = max(courses.values())\n",
    "result"
   ]
  },
  {
   "cell_type": "code",
   "execution_count": 30,
   "id": "8581b1fc-6d55-4ebb-bafb-42371eea9dd8",
   "metadata": {},
   "outputs": [
    {
     "data": {
      "text/plain": [
       "{'Карпов Анатолий Дмитриевич': 100, 'Иванчей Иван Иванович': 200}"
      ]
     },
     "execution_count": 30,
     "metadata": {},
     "output_type": "execute_result"
    }
   ],
   "source": [
    "kaf_sudents  = {'Карпов Анатолий Дмитриевич': 100}\n",
    "new_kaf_students =  {'Иванчей Иван Иванович': 200}\n",
    "\n",
    "# kaf_sudents = {'Карпов Анатолий Дмитриевич': 100, 'Иванчей Иван Иванович': 200}\n",
    "kaf_sudents.update(new_kaf_students)\n",
    "kaf_sudents"
   ]
  },
  {
   "cell_type": "code",
   "execution_count": 19,
   "id": "16485d42-f509-42b1-a667-e52e6712775e",
   "metadata": {},
   "outputs": [
    {
     "name": "stdout",
     "output_type": "stream",
     "text": [
      "{'b', 'a'}\n",
      "{'b', 'a'}\n",
      "True\n"
     ]
    }
   ],
   "source": [
    "str_1 = 'AaB'\n",
    "str_2 = 'Ab'\n",
    "# is_the_same_letters = True \n",
    "\n",
    "# str_1 = 'Aa'\n",
    "# str_2 = 'AaB'\n",
    "# is_the_same_letters = False\n",
    "\n",
    "# is_the_same_letters = set(str_1).intersection(set(str_2)) != 0\n",
    "# is_the_same_letters\n",
    "\n",
    "#Тест, на котором получена ошибка\n",
    "# str_1 = 'IwiF'\n",
    "# str_2 = 'FVO'\n",
    "\n",
    "print(set(str_1.lower()))\n",
    "print(set(str_2.lower()))\n",
    "is_the_same_letters = set(str_1.lower()) == set(str_2.lower())\n",
    "print(is_the_same_letters)"
   ]
  },
  {
   "cell_type": "code",
   "execution_count": 58,
   "id": "274bd4e7-8c2a-4667-9550-f6658fa5b76c",
   "metadata": {},
   "outputs": [
    {
     "data": {
      "text/plain": [
       "2"
      ]
     },
     "execution_count": 58,
     "metadata": {},
     "output_type": "execute_result"
    }
   ],
   "source": [
    "# x = '3.14'\n",
    "# y = 14 \n",
    "\n",
    "x = '2.02'\n",
    "# y = 2\n",
    "# search_for_float_part = list(x)\n",
    "# y = int(x[list(x).index('.') + 1:])\n",
    "y = int(x.split('.')[1])\n",
    "y"
   ]
  },
  {
   "cell_type": "code",
   "execution_count": 66,
   "id": "137f67b5-88e3-4c3d-a2cc-6f238a1065a2",
   "metadata": {},
   "outputs": [
    {
     "name": "stdout",
     "output_type": "stream",
     "text": [
      "['а', 'г', 'о', 'р']\n",
      "['а', 'а', 'а', 'а', 'а', 'г', 'о', 'р']\n"
     ]
    },
    {
     "data": {
      "text/plain": [
       "False"
      ]
     },
     "execution_count": 66,
     "metadata": {},
     "output_type": "execute_result"
    }
   ],
   "source": [
    "#Тест, на котором получена ошибка\n",
    "str_1 = 'гора'\n",
    "str_2 = 'рогааааа'\n",
    "# result = False\n",
    "\n",
    "result = sorted(list(str_1.lower())) == sorted(list(str_2.lower()))\n",
    "print(sorted(list(str_1.lower())))\n",
    "print(sorted(list(str_2.lower())))\n",
    "result"
   ]
  },
  {
   "cell_type": "code",
   "execution_count": 71,
   "id": "a62e2f5b-e16c-4682-b95b-5a5c336eb694",
   "metadata": {},
   "outputs": [
    {
     "data": {
      "text/plain": [
       "'Я изучаю новый язык программирования.'"
      ]
     },
     "execution_count": 71,
     "metadata": {},
     "output_type": "execute_result"
    }
   ],
   "source": [
    "a = \"Я     изучаю   новый язык      программирования.   \"\n",
    "# result = \"Я изучаю новый язык программирования.\"\n",
    "result = ' '.join(a.split())\n",
    "result"
   ]
  },
  {
   "cell_type": "code",
   "execution_count": null,
   "id": "a422b75c-e915-415e-abb6-88428ceabc8b",
   "metadata": {},
   "outputs": [],
   "source": [
    "a = \"div*2\"\n",
    "# result = \"<div></div><div></div>\"\n",
    "\n",
    "# a = \"p*1\" \n",
    "# result = \"<p></p>\"\n",
    "\n",
    "# a = \"li*3\"\n",
    "# result = \"<li></li><li></li><li></li>\"\n"
   ]
  }
 ],
 "metadata": {
  "kernelspec": {
   "display_name": "Python 3 (ipykernel)",
   "language": "python",
   "name": "python3"
  },
  "language_info": {
   "codemirror_mode": {
    "name": "ipython",
    "version": 3
   },
   "file_extension": ".py",
   "mimetype": "text/x-python",
   "name": "python",
   "nbconvert_exporter": "python",
   "pygments_lexer": "ipython3",
   "version": "3.12.0"
  }
 },
 "nbformat": 4,
 "nbformat_minor": 5
}
