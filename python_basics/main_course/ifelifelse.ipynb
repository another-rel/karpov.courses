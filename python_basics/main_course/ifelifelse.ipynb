{
 "cells": [
  {
   "cell_type": "code",
   "execution_count": 5,
   "id": "9d7f54ed-9743-4e1d-82d1-af78b7b9abb7",
   "metadata": {},
   "outputs": [
    {
     "data": {
      "text/plain": [
       "False"
      ]
     },
     "execution_count": 5,
     "metadata": {},
     "output_type": "execute_result"
    }
   ],
   "source": [
    "#Пример 1\n",
    "a = 121 \n",
    "b = 100 \n",
    "# result = False\n",
    "result = a == b\n",
    "result\n",
    "\n",
    "# #Пример 2\n",
    "# a = 10 \n",
    "# b = 10 \n",
    "# result = True"
   ]
  },
  {
   "cell_type": "code",
   "execution_count": 14,
   "id": "a360b021-0d3f-464a-9a64-eddaa69a7416",
   "metadata": {},
   "outputs": [
    {
     "data": {
      "text/plain": [
       "-3"
      ]
     },
     "execution_count": 14,
     "metadata": {},
     "output_type": "execute_result"
    }
   ],
   "source": [
    "# # Пример 1\n",
    "# a = 1 \n",
    "# b = 2 \n",
    "# result = 2\n",
    "\n",
    "# # Пример 2\n",
    "a = 2 \n",
    "b = -3 \n",
    "# result = -3\n",
    "result = a if (a**2) > (b**2) else b\n",
    "result"
   ]
  },
  {
   "cell_type": "code",
   "execution_count": 17,
   "id": "0ebce177-7cd2-4508-aec4-3efc96c9457e",
   "metadata": {},
   "outputs": [
    {
     "name": "stdout",
     "output_type": "stream",
     "text": [
      "True\n"
     ]
    }
   ],
   "source": [
    "#Пример 1\n",
    "# p = 12950000 #стоимость\n",
    "# s = 32 #площадь\n",
    "# d = 13 #удаленность от метро\n",
    "\n",
    "# result = False\n",
    "\n",
    "# #Пример 2\n",
    "p = 14980000 #стоимость\n",
    "s = 51.9 #площадь\n",
    "d = 23 #удаленность от метро\n",
    "\n",
    "# result = True\n",
    "\n",
    "if p <= 15000000 and s >= 50 and d <= 25:\n",
    "    print(True)\n",
    "elif p <= 13000000 and s >= 35 and d <= 5:\n",
    "    print(True)\n",
    "else:\n",
    "    print(False)\n",
    "    "
   ]
  },
  {
   "cell_type": "code",
   "execution_count": 19,
   "id": "386ebb6d-8b1d-4e9e-b7ac-98a36dc1062b",
   "metadata": {},
   "outputs": [
    {
     "name": "stdout",
     "output_type": "stream",
     "text": [
      "Выдан сертификат с отличием\n"
     ]
    }
   ],
   "source": [
    "#Пример 1\n",
    "# K = 121 #количество баллов, полученных Катей\n",
    "# M = 100 #количество баллов, необходимое для получения сертификата\n",
    "# L = 150 #количество баллов, необходимое для получения сертификата с отличием\n",
    "\n",
    "# result = \"Сертификат выдан\"\n",
    "\n",
    "# #Пример 2\n",
    "K = 148 \n",
    "M = 110 \n",
    "L = 145 \n",
    "\n",
    "# result = \"Выдан сертификат с отличием\"\n",
    "\n",
    "if K >= L:\n",
    "    print('Выдан сертификат с отличием')\n",
    "elif K >= M:\n",
    "    print('Сертификат выдан')\n",
    "else:\n",
    "    print('Недостаточно баллов')"
   ]
  },
  {
   "cell_type": "code",
   "execution_count": 23,
   "id": "5c2e23cf-8add-4977-91dd-aae81fb47bdb",
   "metadata": {},
   "outputs": [
    {
     "name": "stdout",
     "output_type": "stream",
     "text": [
      "2000000\n"
     ]
    }
   ],
   "source": [
    "# Пример 1\n",
    "# x = 150000\n",
    "# y = 3\n",
    "# result = 300000\n",
    "\n",
    "# # Пример 2\n",
    "# x = 100000\n",
    "# y = 1\n",
    "# result = 0\n",
    "\n",
    "# # Пример 3\n",
    "x = 200000\n",
    "y = 16\n",
    "# result = 2000000\n",
    "\n",
    "if y >= 15:\n",
    "    result = x * 10\n",
    "    print(result)\n",
    "elif y >= 5:\n",
    "    result = x * 5\n",
    "    print(result)\n",
    "elif y >= 2:\n",
    "    result = x * 2\n",
    "    print(result)\n",
    "else:\n",
    "    result = 0\n",
    "    print(result)"
   ]
  },
  {
   "cell_type": "code",
   "execution_count": 53,
   "id": "44355eee-45c7-4502-8d2d-670eedd70564",
   "metadata": {},
   "outputs": [
    {
     "name": "stdout",
     "output_type": "stream",
     "text": [
      "[('Анатолий', 50), ('Исак', 54), ('Авель', 56)]\n"
     ]
    }
   ],
   "source": [
    "# dict_age = {'Антон': 5, \n",
    "#             'Денис': 14, \n",
    "#             'Борис': 9}\n",
    "# result = 'Борис'\n",
    "\n",
    "# dict_age = {'Марк': 5, \n",
    "#             'Авель': 5, \n",
    "#             'Карп': 9}\n",
    "# result = ''\n",
    "dict_age = {'Анатолий': 50, 'Исак': 54, 'Авель': 56}\n",
    "\n",
    "# if len(set(dict_age.values())) <= 2:\n",
    "#     result = ''\n",
    "#     print(result)\n",
    "# elif dict_age.items()[0][1] < dict_age.items()[1][1] < dict_age.items()[2][1]:\n",
    "#     print(dict_age.items()[1][1])\n",
    "# elif dict_age.items()[1][1] < dict_age.items()[0][1] < dict_age.items()[2][1]:\n",
    "#     print(dict_age.items()[0][1])\n",
    "# else:\n",
    "#     print(dict_age.items()[2][1])\n",
    "# else:\n",
    "#     result = sorted(dict_age.items())[1][0]\n",
    "#     print(result)\n",
    "print(sorted(dict_age.items(), key=lambda x: x[1]))\n",
    "# print(sorted(dict_age.items())[1][1])\n"
   ]
  },
  {
   "cell_type": "code",
   "execution_count": 56,
   "id": "b3502cda-d9a8-43d4-9ac5-c74c10c2860a",
   "metadata": {},
   "outputs": [
    {
     "data": {
      "text/plain": [
       "68.42105263157895"
      ]
     },
     "execution_count": 56,
     "metadata": {},
     "output_type": "execute_result"
    }
   ],
   "source": [
    "52 * 100 / 76"
   ]
  },
  {
   "cell_type": "code",
   "execution_count": 13,
   "id": "d387dfd4-c31e-4701-afcd-a2955edc7682",
   "metadata": {},
   "outputs": [
    {
     "name": "stdout",
     "output_type": "stream",
     "text": [
      "[70, 110, 130]\n",
      "False\n"
     ]
    }
   ],
   "source": [
    "# a = 3\n",
    "# b = 5\n",
    "# c = 4\n",
    "# # result = True\n",
    "\n",
    "a = 70\n",
    "b = 130\n",
    "c = 110\n",
    "# result = False\n",
    "\n",
    "new_list = [a, b, c]\n",
    "new_list.sort()\n",
    "print(new_list)\n",
    "\n",
    "if ((new_list[0]**2) + (new_list[1]**2) == new_list[2]**2):\n",
    "    print(True)\n",
    "else:\n",
    "    print(False)"
   ]
  },
  {
   "cell_type": "code",
   "execution_count": 12,
   "id": "0d415c91-eeb9-446d-a9d3-23105a00a571",
   "metadata": {},
   "outputs": [
    {
     "name": "stdout",
     "output_type": "stream",
     "text": [
      "31.400000000000002\n"
     ]
    }
   ],
   "source": [
    "# f = 'S'\n",
    "f = 'C'\n",
    "v = 5\n",
    "\n",
    "if f == 'S':\n",
    "    result = v*4\n",
    "    print(result)\n",
    "else:\n",
    "    result = 2 * 3.14 * v\n",
    "    print(result)"
   ]
  },
  {
   "cell_type": "code",
   "execution_count": null,
   "id": "5a11fdfd-162d-4124-b5ff-adcafb023f59",
   "metadata": {},
   "outputs": [],
   "source": []
  }
 ],
 "metadata": {
  "kernelspec": {
   "display_name": "Python 3 (ipykernel)",
   "language": "python",
   "name": "python3"
  },
  "language_info": {
   "codemirror_mode": {
    "name": "ipython",
    "version": 3
   },
   "file_extension": ".py",
   "mimetype": "text/x-python",
   "name": "python",
   "nbconvert_exporter": "python",
   "pygments_lexer": "ipython3",
   "version": "3.12.0"
  }
 },
 "nbformat": 4,
 "nbformat_minor": 5
}
