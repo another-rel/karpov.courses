{
 "cells": [
  {
   "cell_type": "code",
   "execution_count": 18,
   "id": "d776fac6-26ee-4e50-ae2b-d9025bf61d66",
   "metadata": {},
   "outputs": [
    {
     "data": {
      "text/plain": [
       "'<div></div><div></div>'"
      ]
     },
     "execution_count": 18,
     "metadata": {},
     "output_type": "execute_result"
    }
   ],
   "source": [
    "a = \"div*2\"\n",
    "# result = \"<div></div><div></div>\"\n",
    "\n",
    "# a = \"p*1\" \n",
    "# result = \"<p></p>\"\n",
    "\n",
    "# a = \"li*3\"\n",
    "# result = \"<li></li><li></li><li></li>\"\n",
    "# b = a.split('*')\n",
    "\n",
    "# b\n",
    "result = f'<{a.split('*')[0]}></{a.split('*')[0]}>' * int(b[1])\n",
    "result"
   ]
  },
  {
   "cell_type": "code",
   "execution_count": 28,
   "id": "6e62357b-4376-4502-9cd7-7382fbcbae77",
   "metadata": {},
   "outputs": [
    {
     "name": "stdout",
     "output_type": "stream",
     "text": [
      "У дуб зелёный лукоморья\n",
      "У лукоморья дуб зелёный\n"
     ]
    }
   ],
   "source": [
    "x = 'У лукоморья дуб зелёный'\n",
    "# result = 'У дуб зелёный лукоморья'\n",
    "\n",
    "# x_split = sorted(x.split())\n",
    "result = ' '.join(sorted(x.split()))\n",
    "# print(x_split)\n",
    "print(result)\n",
    "print(x)"
   ]
  },
  {
   "cell_type": "code",
   "execution_count": 29,
   "id": "38d913a4-94a3-4a97-b565-1adbc72672d0",
   "metadata": {},
   "outputs": [
    {
     "data": {
      "text/plain": [
       "3"
      ]
     },
     "execution_count": 29,
     "metadata": {},
     "output_type": "execute_result"
    }
   ],
   "source": [
    "x = 'На подоконнике в гостиной у бабушки росли цветы, цветы были красные и желтые, очень красивые цветы.'\n",
    "y = 'цветы'\n",
    "# result = 3\n",
    "\n",
    "result = x.count(y)\n",
    "result"
   ]
  },
  {
   "cell_type": "code",
   "execution_count": 44,
   "id": "3e5db645-7a2a-4ac3-b878-e36b23d4064a",
   "metadata": {},
   "outputs": [
    {
     "name": "stdout",
     "output_type": "stream",
     "text": [
      "************5833\n",
      "True\n"
     ]
    }
   ],
   "source": [
    "card = '5468350018455833'\n",
    "result = '************5833'\n",
    "\n",
    "# string = \"hello, world!\"\n",
    "new_string = card.replace(card[:-4], '*' * len(card[:-4]))\n",
    "print(new_string) # \"hello, there!\"\n",
    "print(new_string == result)\n"
   ]
  },
  {
   "cell_type": "code",
   "execution_count": 45,
   "id": "72341e8d-3396-44d0-8e03-5d30606ca72a",
   "metadata": {},
   "outputs": [
    {
     "data": {
      "text/plain": [
       "'Я пмню чудне мгнвенье'"
      ]
     },
     "execution_count": 45,
     "metadata": {},
     "output_type": "execute_result"
    }
   ],
   "source": [
    "a = 'Я помню чудное мгновенье'\n",
    "b = 'о'\n",
    "# result = 'Я пмню чудне мгнвенье'\n",
    "result = a.replace(b, '')\n",
    "result"
   ]
  },
  {
   "cell_type": "code",
   "execution_count": null,
   "id": "d3d86d4f-83f4-4cfe-a490-0bfd6e607111",
   "metadata": {},
   "outputs": [],
   "source": []
  }
 ],
 "metadata": {
  "kernelspec": {
   "display_name": "Python 3 (ipykernel)",
   "language": "python",
   "name": "python3"
  },
  "language_info": {
   "codemirror_mode": {
    "name": "ipython",
    "version": 3
   },
   "file_extension": ".py",
   "mimetype": "text/x-python",
   "name": "python",
   "nbconvert_exporter": "python",
   "pygments_lexer": "ipython3",
   "version": "3.12.0"
  }
 },
 "nbformat": 4,
 "nbformat_minor": 5
}
